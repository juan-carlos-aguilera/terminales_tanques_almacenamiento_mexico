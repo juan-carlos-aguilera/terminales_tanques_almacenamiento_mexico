{
 "cells": [
  {
   "cell_type": "markdown",
   "id": "ed1bb080",
   "metadata": {},
   "source": [
    "01 - Limpieza y Validación de Datos del Dataset - 'TERMINALES_ALMACENAMIENTO_MEX' para las Terminales de México."
   ]
  },
  {
   "cell_type": "markdown",
   "id": "cb40ebb4",
   "metadata": {},
   "source": [
    "Objetivo: Preparar el Dataset para su posterior análisis e indagar y tratar los posibles valores faltantes o nulos."
   ]
  },
  {
   "cell_type": "markdown",
   "id": "806c2aaa",
   "metadata": {},
   "source": [
    "IMPORTACIÓN DE LIBRERÍAS"
   ]
  },
  {
   "cell_type": "code",
   "execution_count": 10,
   "id": "c0c117c5",
   "metadata": {},
   "outputs": [],
   "source": [
    "import pandas as pd\n",
    "import pyprojroot\n",
    "from pathlib import Path\n",
    "import os\n",
    "pd.set_option(\"display.float_format\", \"{:,.0f}\".format)"
   ]
  },
  {
   "cell_type": "markdown",
   "id": "59590d97",
   "metadata": {},
   "source": [
    "Verificación de ruta para la importación de archivos"
   ]
  },
  {
   "cell_type": "code",
   "execution_count": 11,
   "id": "74a12751",
   "metadata": {},
   "outputs": [
    {
     "name": "stdout",
     "output_type": "stream",
     "text": [
      "/mnt/d/CURSOS/IA_DATA_SCIENCE/PROYECTOS_CIENCIA_DATOS/PROYECTOS/TERMINALES_ALMACENAMIENTO_MEX/data/raw\n"
     ]
    }
   ],
   "source": [
    "root = pyprojroot.here()\n",
    "data_raw = root/'data'/'raw'\n",
    "print(data_raw)"
   ]
  },
  {
   "cell_type": "markdown",
   "id": "d1983a5f",
   "metadata": {},
   "source": [
    "CARGA DE DATOS"
   ]
  },
  {
   "cell_type": "code",
   "execution_count": 12,
   "id": "f5b758e5",
   "metadata": {},
   "outputs": [],
   "source": [
    "df_terminales_mexico = pd.read_excel(data_raw / 'Terminales_Almacenamiento_México.xlsx')"
   ]
  },
  {
   "cell_type": "markdown",
   "id": "42c140fa",
   "metadata": {},
   "source": [
    "EXPLORACIÓN INICIAL"
   ]
  },
  {
   "cell_type": "markdown",
   "id": "16a686c8",
   "metadata": {},
   "source": [
    "Mostrar las primeras 5 filas/observaciones"
   ]
  },
  {
   "cell_type": "code",
   "execution_count": 13,
   "id": "d633b7b7",
   "metadata": {},
   "outputs": [
    {
     "data": {
      "text/html": [
       "<div>\n",
       "<style scoped>\n",
       "    .dataframe tbody tr th:only-of-type {\n",
       "        vertical-align: middle;\n",
       "    }\n",
       "\n",
       "    .dataframe tbody tr th {\n",
       "        vertical-align: top;\n",
       "    }\n",
       "\n",
       "    .dataframe thead th {\n",
       "        text-align: right;\n",
       "    }\n",
       "</style>\n",
       "<table border=\"1\" class=\"dataframe\">\n",
       "  <thead>\n",
       "    <tr style=\"text-align: right;\">\n",
       "      <th></th>\n",
       "      <th>ID_Terminal</th>\n",
       "      <th>Nombre_Terminal</th>\n",
       "      <th>Tipo_Terminal</th>\n",
       "      <th>Región</th>\n",
       "      <th>Estado</th>\n",
       "      <th>Tipos_Productos_Almacenar</th>\n",
       "      <th>Año</th>\n",
       "      <th>Capacidad_Diseño_barriles</th>\n",
       "      <th>Capacidad_Operativa_barriles</th>\n",
       "    </tr>\n",
       "  </thead>\n",
       "  <tbody>\n",
       "    <tr>\n",
       "      <th>0</th>\n",
       "      <td>TAR_ACG_GRO</td>\n",
       "      <td>Acapulco</td>\n",
       "      <td>Terrestre</td>\n",
       "      <td>Sur</td>\n",
       "      <td>Guerrero</td>\n",
       "      <td>Gasolina;Diésel</td>\n",
       "      <td>2015</td>\n",
       "      <td>235000</td>\n",
       "      <td>145,262</td>\n",
       "    </tr>\n",
       "    <tr>\n",
       "      <th>1</th>\n",
       "      <td>TAR_AGS_AGS</td>\n",
       "      <td>Aguascalientes</td>\n",
       "      <td>Terrestre</td>\n",
       "      <td>Occidente</td>\n",
       "      <td>Aguascalientes</td>\n",
       "      <td>Gasolina;Diésel</td>\n",
       "      <td>2015</td>\n",
       "      <td>105000</td>\n",
       "      <td>68,241</td>\n",
       "    </tr>\n",
       "    <tr>\n",
       "      <th>2</th>\n",
       "      <td>TAR_AÑL_CDM</td>\n",
       "      <td>Añil</td>\n",
       "      <td>Terrestre</td>\n",
       "      <td>Centro</td>\n",
       "      <td>Ciudad de México</td>\n",
       "      <td>Gasolina;Diésel</td>\n",
       "      <td>2015</td>\n",
       "      <td>235000</td>\n",
       "      <td>158,343</td>\n",
       "    </tr>\n",
       "    <tr>\n",
       "      <th>3</th>\n",
       "      <td>TAR_AZC_CDM</td>\n",
       "      <td>Azcapotzalco</td>\n",
       "      <td>Terrestre</td>\n",
       "      <td>Centro</td>\n",
       "      <td>Ciudad de México</td>\n",
       "      <td>Gasolina;Diésel;Turbosina</td>\n",
       "      <td>2015</td>\n",
       "      <td>1510000</td>\n",
       "      <td>1,107,981</td>\n",
       "    </tr>\n",
       "    <tr>\n",
       "      <th>4</th>\n",
       "      <td>TAR_BDM_CDM</td>\n",
       "      <td>Barranca del Muerto</td>\n",
       "      <td>Terrestre</td>\n",
       "      <td>Centro</td>\n",
       "      <td>Ciudad de México</td>\n",
       "      <td>Gasolina;Diésel</td>\n",
       "      <td>2015</td>\n",
       "      <td>125000</td>\n",
       "      <td>91,526</td>\n",
       "    </tr>\n",
       "  </tbody>\n",
       "</table>\n",
       "</div>"
      ],
      "text/plain": [
       "   ID_Terminal      Nombre_Terminal Tipo_Terminal     Región  \\\n",
       "0  TAR_ACG_GRO             Acapulco     Terrestre        Sur   \n",
       "1  TAR_AGS_AGS       Aguascalientes     Terrestre  Occidente   \n",
       "2  TAR_AÑL_CDM                 Añil     Terrestre     Centro   \n",
       "3  TAR_AZC_CDM         Azcapotzalco     Terrestre     Centro   \n",
       "4  TAR_BDM_CDM  Barranca del Muerto     Terrestre     Centro   \n",
       "\n",
       "             Estado  Tipos_Productos_Almacenar   Año  \\\n",
       "0          Guerrero            Gasolina;Diésel  2015   \n",
       "1    Aguascalientes            Gasolina;Diésel  2015   \n",
       "2  Ciudad de México            Gasolina;Diésel  2015   \n",
       "3  Ciudad de México  Gasolina;Diésel;Turbosina  2015   \n",
       "4  Ciudad de México            Gasolina;Diésel  2015   \n",
       "\n",
       "   Capacidad_Diseño_barriles  Capacidad_Operativa_barriles  \n",
       "0                     235000                       145,262  \n",
       "1                     105000                        68,241  \n",
       "2                     235000                       158,343  \n",
       "3                    1510000                     1,107,981  \n",
       "4                     125000                        91,526  "
      ]
     },
     "execution_count": 13,
     "metadata": {},
     "output_type": "execute_result"
    }
   ],
   "source": [
    "df_terminales_mexico.head()"
   ]
  },
  {
   "cell_type": "markdown",
   "id": "f76066a1",
   "metadata": {},
   "source": [
    "Mostrar el tipo de dato para cada variable/columna"
   ]
  },
  {
   "cell_type": "code",
   "execution_count": 14,
   "id": "6bc9baab",
   "metadata": {},
   "outputs": [
    {
     "data": {
      "text/plain": [
       "ID_Terminal                      object\n",
       "Nombre_Terminal                  object\n",
       "Tipo_Terminal                    object\n",
       "Región                           object\n",
       "Estado                           object\n",
       "Tipos_Productos_Almacenar        object\n",
       "Año                               int64\n",
       "Capacidad_Diseño_barriles         int64\n",
       "Capacidad_Operativa_barriles    float64\n",
       "dtype: object"
      ]
     },
     "execution_count": 14,
     "metadata": {},
     "output_type": "execute_result"
    }
   ],
   "source": [
    "df_terminales_mexico.dtypes"
   ]
  },
  {
   "cell_type": "markdown",
   "id": "ae8f59f3",
   "metadata": {},
   "source": [
    "Mostrar estadísticas básicas de inicio rápido"
   ]
  },
  {
   "cell_type": "code",
   "execution_count": 16,
   "id": "fae23b04",
   "metadata": {},
   "outputs": [
    {
     "data": {
      "text/html": [
       "<div>\n",
       "<style scoped>\n",
       "    .dataframe tbody tr th:only-of-type {\n",
       "        vertical-align: middle;\n",
       "    }\n",
       "\n",
       "    .dataframe tbody tr th {\n",
       "        vertical-align: top;\n",
       "    }\n",
       "\n",
       "    .dataframe thead th {\n",
       "        text-align: right;\n",
       "    }\n",
       "</style>\n",
       "<table border=\"1\" class=\"dataframe\">\n",
       "  <thead>\n",
       "    <tr style=\"text-align: right;\">\n",
       "      <th></th>\n",
       "      <th>Año</th>\n",
       "      <th>Capacidad_Diseño_barriles</th>\n",
       "      <th>Capacidad_Operativa_barriles</th>\n",
       "    </tr>\n",
       "  </thead>\n",
       "  <tbody>\n",
       "    <tr>\n",
       "      <th>count</th>\n",
       "      <td>89</td>\n",
       "      <td>89</td>\n",
       "      <td>79</td>\n",
       "    </tr>\n",
       "    <tr>\n",
       "      <th>mean</th>\n",
       "      <td>2,015</td>\n",
       "      <td>365,758</td>\n",
       "      <td>305,811</td>\n",
       "    </tr>\n",
       "    <tr>\n",
       "      <th>std</th>\n",
       "      <td>0</td>\n",
       "      <td>696,145</td>\n",
       "      <td>633,770</td>\n",
       "    </tr>\n",
       "    <tr>\n",
       "      <th>min</th>\n",
       "      <td>2,015</td>\n",
       "      <td>4,000</td>\n",
       "      <td>5,926</td>\n",
       "    </tr>\n",
       "    <tr>\n",
       "      <th>25%</th>\n",
       "      <td>2,015</td>\n",
       "      <td>60,000</td>\n",
       "      <td>58,443</td>\n",
       "    </tr>\n",
       "    <tr>\n",
       "      <th>50%</th>\n",
       "      <td>2,015</td>\n",
       "      <td>135,000</td>\n",
       "      <td>112,462</td>\n",
       "    </tr>\n",
       "    <tr>\n",
       "      <th>75%</th>\n",
       "      <td>2,015</td>\n",
       "      <td>328,500</td>\n",
       "      <td>258,918</td>\n",
       "    </tr>\n",
       "    <tr>\n",
       "      <th>max</th>\n",
       "      <td>2,015</td>\n",
       "      <td>4,805,000</td>\n",
       "      <td>4,370,333</td>\n",
       "    </tr>\n",
       "  </tbody>\n",
       "</table>\n",
       "</div>"
      ],
      "text/plain": [
       "        Año  Capacidad_Diseño_barriles  Capacidad_Operativa_barriles\n",
       "count    89                         89                            79\n",
       "mean  2,015                    365,758                       305,811\n",
       "std       0                    696,145                       633,770\n",
       "min   2,015                      4,000                         5,926\n",
       "25%   2,015                     60,000                        58,443\n",
       "50%   2,015                    135,000                       112,462\n",
       "75%   2,015                    328,500                       258,918\n",
       "max   2,015                  4,805,000                     4,370,333"
      ]
     },
     "execution_count": 16,
     "metadata": {},
     "output_type": "execute_result"
    }
   ],
   "source": [
    "df_terminales_mexico.describe()"
   ]
  },
  {
   "cell_type": "markdown",
   "id": "313ffcfd",
   "metadata": {},
   "source": [
    "Mostrar valores nulos"
   ]
  },
  {
   "cell_type": "code",
   "execution_count": 17,
   "id": "63967bc7",
   "metadata": {},
   "outputs": [
    {
     "data": {
      "text/plain": [
       "ID_Terminal                      0\n",
       "Nombre_Terminal                  0\n",
       "Tipo_Terminal                    0\n",
       "Región                           0\n",
       "Estado                           0\n",
       "Tipos_Productos_Almacenar        0\n",
       "Año                              0\n",
       "Capacidad_Diseño_barriles        0\n",
       "Capacidad_Operativa_barriles    10\n",
       "dtype: int64"
      ]
     },
     "execution_count": 17,
     "metadata": {},
     "output_type": "execute_result"
    }
   ],
   "source": [
    "df_terminales_mexico.isnull().sum()"
   ]
  },
  {
   "cell_type": "markdown",
   "id": "6bda08e5",
   "metadata": {},
   "source": [
    "TRATAMIENTO DE VALORES NULOS"
   ]
  },
  {
   "cell_type": "markdown",
   "id": "9754b084",
   "metadata": {},
   "source": [
    "Creación de copia del df_terminales_mexico para sus modificaciones correspondientes"
   ]
  },
  {
   "cell_type": "code",
   "execution_count": 18,
   "id": "621158f4",
   "metadata": {},
   "outputs": [],
   "source": [
    "df_terminales_mexico_copy = df_terminales_mexico.copy()"
   ]
  },
  {
   "cell_type": "markdown",
   "id": "f9119d9f",
   "metadata": {},
   "source": [
    "Verificar que filas/observaciones tienen valores faltantes/nulos basadas en la columna analizada (\"Capacidad_Operativa_barriles\")"
   ]
  },
  {
   "cell_type": "code",
   "execution_count": 21,
   "id": "e8c13f44",
   "metadata": {},
   "outputs": [
    {
     "data": {
      "text/html": [
       "<div>\n",
       "<style scoped>\n",
       "    .dataframe tbody tr th:only-of-type {\n",
       "        vertical-align: middle;\n",
       "    }\n",
       "\n",
       "    .dataframe tbody tr th {\n",
       "        vertical-align: top;\n",
       "    }\n",
       "\n",
       "    .dataframe thead th {\n",
       "        text-align: right;\n",
       "    }\n",
       "</style>\n",
       "<table border=\"1\" class=\"dataframe\">\n",
       "  <thead>\n",
       "    <tr style=\"text-align: right;\">\n",
       "      <th></th>\n",
       "      <th>ID_Terminal</th>\n",
       "      <th>Nombre_Terminal</th>\n",
       "      <th>Tipo_Terminal</th>\n",
       "      <th>Región</th>\n",
       "      <th>Estado</th>\n",
       "      <th>Tipos_Productos_Almacenar</th>\n",
       "      <th>Año</th>\n",
       "      <th>Capacidad_Diseño_barriles</th>\n",
       "      <th>Capacidad_Operativa_barriles</th>\n",
       "    </tr>\n",
       "  </thead>\n",
       "  <tbody>\n",
       "    <tr>\n",
       "      <th>5</th>\n",
       "      <td>TAR_CLP_CHS</td>\n",
       "      <td>Cactus GLP</td>\n",
       "      <td>Gas LP</td>\n",
       "      <td>Sur</td>\n",
       "      <td>Chiapas</td>\n",
       "      <td>Gas Licuado de Petróleo</td>\n",
       "      <td>2015</td>\n",
       "      <td>40000</td>\n",
       "      <td>NaN</td>\n",
       "    </tr>\n",
       "    <tr>\n",
       "      <th>30</th>\n",
       "      <td>TAR_MLP_TAM</td>\n",
       "      <td>Madero GLP</td>\n",
       "      <td>Gas LP</td>\n",
       "      <td>Noreste</td>\n",
       "      <td>Tamaulipas</td>\n",
       "      <td>Gas Licuado de Petróleo</td>\n",
       "      <td>2015</td>\n",
       "      <td>15000</td>\n",
       "      <td>NaN</td>\n",
       "    </tr>\n",
       "    <tr>\n",
       "      <th>47</th>\n",
       "      <td>TAR_PLP_VER</td>\n",
       "      <td>Pajaritos GLP</td>\n",
       "      <td>Gas LP</td>\n",
       "      <td>Golfo</td>\n",
       "      <td>Veracruz</td>\n",
       "      <td>Gas Licuado de Petróleo</td>\n",
       "      <td>2015</td>\n",
       "      <td>770464</td>\n",
       "      <td>NaN</td>\n",
       "    </tr>\n",
       "    <tr>\n",
       "      <th>56</th>\n",
       "      <td>TAR_PLP_PUE</td>\n",
       "      <td>Puebla GLP</td>\n",
       "      <td>Gas LP</td>\n",
       "      <td>Centro</td>\n",
       "      <td>Puebla</td>\n",
       "      <td>Gas Licuado de Petróleo</td>\n",
       "      <td>2015</td>\n",
       "      <td>20000</td>\n",
       "      <td>NaN</td>\n",
       "    </tr>\n",
       "    <tr>\n",
       "      <th>60</th>\n",
       "      <td>TAR_RLP_BJ</td>\n",
       "      <td>Rosarito GLP</td>\n",
       "      <td>Gas LP</td>\n",
       "      <td>Noroeste</td>\n",
       "      <td>Baja California</td>\n",
       "      <td>Gas Licuado de Petróleo</td>\n",
       "      <td>2015</td>\n",
       "      <td>40000</td>\n",
       "      <td>NaN</td>\n",
       "    </tr>\n",
       "    <tr>\n",
       "      <th>64</th>\n",
       "      <td>TAR_OLP_OAX</td>\n",
       "      <td>Salina Cruz Oaxaca GLP</td>\n",
       "      <td>Gas LP</td>\n",
       "      <td>Sur</td>\n",
       "      <td>Oaxaca</td>\n",
       "      <td>Gas Licuado de Petróleo</td>\n",
       "      <td>2015</td>\n",
       "      <td>4000</td>\n",
       "      <td>NaN</td>\n",
       "    </tr>\n",
       "    <tr>\n",
       "      <th>68</th>\n",
       "      <td>TAR_SMT_PUE</td>\n",
       "      <td>San Martín Texmelucan GLP</td>\n",
       "      <td>Gas LP</td>\n",
       "      <td>Centro</td>\n",
       "      <td>Puebla</td>\n",
       "      <td>Gas Licuado de Petróleo</td>\n",
       "      <td>2015</td>\n",
       "      <td>20000</td>\n",
       "      <td>NaN</td>\n",
       "    </tr>\n",
       "    <tr>\n",
       "      <th>74</th>\n",
       "      <td>TAR_BLP_VER</td>\n",
       "      <td>Tierra Blanca GLP</td>\n",
       "      <td>Gas LP</td>\n",
       "      <td>Golfo</td>\n",
       "      <td>Veracruz</td>\n",
       "      <td>Gas Licuado de Petróleo</td>\n",
       "      <td>2015</td>\n",
       "      <td>10000</td>\n",
       "      <td>NaN</td>\n",
       "    </tr>\n",
       "    <tr>\n",
       "      <th>77</th>\n",
       "      <td>TAR_TLP_SIN</td>\n",
       "      <td>Topolobampo GLP</td>\n",
       "      <td>Gas LP</td>\n",
       "      <td>Noroeste</td>\n",
       "      <td>Sinaloa</td>\n",
       "      <td>Gas Licuado de Petróleo</td>\n",
       "      <td>2015</td>\n",
       "      <td>200000</td>\n",
       "      <td>NaN</td>\n",
       "    </tr>\n",
       "    <tr>\n",
       "      <th>78</th>\n",
       "      <td>TAR_TLP_HGO</td>\n",
       "      <td>Tula GLP</td>\n",
       "      <td>Gas LP</td>\n",
       "      <td>Centro</td>\n",
       "      <td>Hidalgo</td>\n",
       "      <td>Gas Licuado de Petróleo</td>\n",
       "      <td>2015</td>\n",
       "      <td>60000</td>\n",
       "      <td>NaN</td>\n",
       "    </tr>\n",
       "  </tbody>\n",
       "</table>\n",
       "</div>"
      ],
      "text/plain": [
       "    ID_Terminal            Nombre_Terminal Tipo_Terminal    Región  \\\n",
       "5   TAR_CLP_CHS                 Cactus GLP        Gas LP       Sur   \n",
       "30  TAR_MLP_TAM                 Madero GLP        Gas LP   Noreste   \n",
       "47  TAR_PLP_VER              Pajaritos GLP        Gas LP     Golfo   \n",
       "56  TAR_PLP_PUE                 Puebla GLP        Gas LP    Centro   \n",
       "60   TAR_RLP_BJ               Rosarito GLP        Gas LP  Noroeste   \n",
       "64  TAR_OLP_OAX     Salina Cruz Oaxaca GLP        Gas LP       Sur   \n",
       "68  TAR_SMT_PUE  San Martín Texmelucan GLP        Gas LP    Centro   \n",
       "74  TAR_BLP_VER          Tierra Blanca GLP        Gas LP     Golfo   \n",
       "77  TAR_TLP_SIN            Topolobampo GLP        Gas LP  Noroeste   \n",
       "78  TAR_TLP_HGO                   Tula GLP        Gas LP    Centro   \n",
       "\n",
       "             Estado Tipos_Productos_Almacenar   Año  \\\n",
       "5           Chiapas   Gas Licuado de Petróleo  2015   \n",
       "30       Tamaulipas   Gas Licuado de Petróleo  2015   \n",
       "47         Veracruz   Gas Licuado de Petróleo  2015   \n",
       "56           Puebla   Gas Licuado de Petróleo  2015   \n",
       "60  Baja California   Gas Licuado de Petróleo  2015   \n",
       "64           Oaxaca   Gas Licuado de Petróleo  2015   \n",
       "68           Puebla   Gas Licuado de Petróleo  2015   \n",
       "74         Veracruz   Gas Licuado de Petróleo  2015   \n",
       "77          Sinaloa   Gas Licuado de Petróleo  2015   \n",
       "78          Hidalgo   Gas Licuado de Petróleo  2015   \n",
       "\n",
       "    Capacidad_Diseño_barriles  Capacidad_Operativa_barriles  \n",
       "5                       40000                           NaN  \n",
       "30                      15000                           NaN  \n",
       "47                     770464                           NaN  \n",
       "56                      20000                           NaN  \n",
       "60                      40000                           NaN  \n",
       "64                       4000                           NaN  \n",
       "68                      20000                           NaN  \n",
       "74                      10000                           NaN  \n",
       "77                     200000                           NaN  \n",
       "78                      60000                           NaN  "
      ]
     },
     "execution_count": 21,
     "metadata": {},
     "output_type": "execute_result"
    }
   ],
   "source": [
    "df_terminales_mexico_copy[df_terminales_mexico_copy['Capacidad_Operativa_barriles'].isna()]"
   ]
  },
  {
   "cell_type": "markdown",
   "id": "93b5bf01",
   "metadata": {},
   "source": [
    "Debido a que la columna \"Tipo_Terminal\" con el dato de Gas LP, son la que tiene los valores faltantes, se procede a eliminarla y almacenarla en un DataFrame por separado"
   ]
  },
  {
   "cell_type": "code",
   "execution_count": 24,
   "id": "4d4fe7b2",
   "metadata": {},
   "outputs": [
    {
     "data": {
      "text/html": [
       "<div>\n",
       "<style scoped>\n",
       "    .dataframe tbody tr th:only-of-type {\n",
       "        vertical-align: middle;\n",
       "    }\n",
       "\n",
       "    .dataframe tbody tr th {\n",
       "        vertical-align: top;\n",
       "    }\n",
       "\n",
       "    .dataframe thead th {\n",
       "        text-align: right;\n",
       "    }\n",
       "</style>\n",
       "<table border=\"1\" class=\"dataframe\">\n",
       "  <thead>\n",
       "    <tr style=\"text-align: right;\">\n",
       "      <th></th>\n",
       "      <th>ID_Terminal</th>\n",
       "      <th>Nombre_Terminal</th>\n",
       "      <th>Tipo_Terminal</th>\n",
       "      <th>Región</th>\n",
       "      <th>Estado</th>\n",
       "      <th>Tipos_Productos_Almacenar</th>\n",
       "      <th>Año</th>\n",
       "      <th>Capacidad_Diseño_barriles</th>\n",
       "      <th>Capacidad_Operativa_barriles</th>\n",
       "    </tr>\n",
       "  </thead>\n",
       "  <tbody>\n",
       "    <tr>\n",
       "      <th>5</th>\n",
       "      <td>TAR_CLP_CHS</td>\n",
       "      <td>Cactus GLP</td>\n",
       "      <td>Gas LP</td>\n",
       "      <td>Sur</td>\n",
       "      <td>Chiapas</td>\n",
       "      <td>Gas Licuado de Petróleo</td>\n",
       "      <td>2015</td>\n",
       "      <td>40000</td>\n",
       "      <td>NaN</td>\n",
       "    </tr>\n",
       "    <tr>\n",
       "      <th>30</th>\n",
       "      <td>TAR_MLP_TAM</td>\n",
       "      <td>Madero GLP</td>\n",
       "      <td>Gas LP</td>\n",
       "      <td>Noreste</td>\n",
       "      <td>Tamaulipas</td>\n",
       "      <td>Gas Licuado de Petróleo</td>\n",
       "      <td>2015</td>\n",
       "      <td>15000</td>\n",
       "      <td>NaN</td>\n",
       "    </tr>\n",
       "    <tr>\n",
       "      <th>47</th>\n",
       "      <td>TAR_PLP_VER</td>\n",
       "      <td>Pajaritos GLP</td>\n",
       "      <td>Gas LP</td>\n",
       "      <td>Golfo</td>\n",
       "      <td>Veracruz</td>\n",
       "      <td>Gas Licuado de Petróleo</td>\n",
       "      <td>2015</td>\n",
       "      <td>770464</td>\n",
       "      <td>NaN</td>\n",
       "    </tr>\n",
       "    <tr>\n",
       "      <th>56</th>\n",
       "      <td>TAR_PLP_PUE</td>\n",
       "      <td>Puebla GLP</td>\n",
       "      <td>Gas LP</td>\n",
       "      <td>Centro</td>\n",
       "      <td>Puebla</td>\n",
       "      <td>Gas Licuado de Petróleo</td>\n",
       "      <td>2015</td>\n",
       "      <td>20000</td>\n",
       "      <td>NaN</td>\n",
       "    </tr>\n",
       "    <tr>\n",
       "      <th>60</th>\n",
       "      <td>TAR_RLP_BJ</td>\n",
       "      <td>Rosarito GLP</td>\n",
       "      <td>Gas LP</td>\n",
       "      <td>Noroeste</td>\n",
       "      <td>Baja California</td>\n",
       "      <td>Gas Licuado de Petróleo</td>\n",
       "      <td>2015</td>\n",
       "      <td>40000</td>\n",
       "      <td>NaN</td>\n",
       "    </tr>\n",
       "    <tr>\n",
       "      <th>64</th>\n",
       "      <td>TAR_OLP_OAX</td>\n",
       "      <td>Salina Cruz Oaxaca GLP</td>\n",
       "      <td>Gas LP</td>\n",
       "      <td>Sur</td>\n",
       "      <td>Oaxaca</td>\n",
       "      <td>Gas Licuado de Petróleo</td>\n",
       "      <td>2015</td>\n",
       "      <td>4000</td>\n",
       "      <td>NaN</td>\n",
       "    </tr>\n",
       "    <tr>\n",
       "      <th>68</th>\n",
       "      <td>TAR_SMT_PUE</td>\n",
       "      <td>San Martín Texmelucan GLP</td>\n",
       "      <td>Gas LP</td>\n",
       "      <td>Centro</td>\n",
       "      <td>Puebla</td>\n",
       "      <td>Gas Licuado de Petróleo</td>\n",
       "      <td>2015</td>\n",
       "      <td>20000</td>\n",
       "      <td>NaN</td>\n",
       "    </tr>\n",
       "    <tr>\n",
       "      <th>74</th>\n",
       "      <td>TAR_BLP_VER</td>\n",
       "      <td>Tierra Blanca GLP</td>\n",
       "      <td>Gas LP</td>\n",
       "      <td>Golfo</td>\n",
       "      <td>Veracruz</td>\n",
       "      <td>Gas Licuado de Petróleo</td>\n",
       "      <td>2015</td>\n",
       "      <td>10000</td>\n",
       "      <td>NaN</td>\n",
       "    </tr>\n",
       "    <tr>\n",
       "      <th>77</th>\n",
       "      <td>TAR_TLP_SIN</td>\n",
       "      <td>Topolobampo GLP</td>\n",
       "      <td>Gas LP</td>\n",
       "      <td>Noroeste</td>\n",
       "      <td>Sinaloa</td>\n",
       "      <td>Gas Licuado de Petróleo</td>\n",
       "      <td>2015</td>\n",
       "      <td>200000</td>\n",
       "      <td>NaN</td>\n",
       "    </tr>\n",
       "    <tr>\n",
       "      <th>78</th>\n",
       "      <td>TAR_TLP_HGO</td>\n",
       "      <td>Tula GLP</td>\n",
       "      <td>Gas LP</td>\n",
       "      <td>Centro</td>\n",
       "      <td>Hidalgo</td>\n",
       "      <td>Gas Licuado de Petróleo</td>\n",
       "      <td>2015</td>\n",
       "      <td>60000</td>\n",
       "      <td>NaN</td>\n",
       "    </tr>\n",
       "  </tbody>\n",
       "</table>\n",
       "</div>"
      ],
      "text/plain": [
       "    ID_Terminal            Nombre_Terminal Tipo_Terminal    Región  \\\n",
       "5   TAR_CLP_CHS                 Cactus GLP        Gas LP       Sur   \n",
       "30  TAR_MLP_TAM                 Madero GLP        Gas LP   Noreste   \n",
       "47  TAR_PLP_VER              Pajaritos GLP        Gas LP     Golfo   \n",
       "56  TAR_PLP_PUE                 Puebla GLP        Gas LP    Centro   \n",
       "60   TAR_RLP_BJ               Rosarito GLP        Gas LP  Noroeste   \n",
       "64  TAR_OLP_OAX     Salina Cruz Oaxaca GLP        Gas LP       Sur   \n",
       "68  TAR_SMT_PUE  San Martín Texmelucan GLP        Gas LP    Centro   \n",
       "74  TAR_BLP_VER          Tierra Blanca GLP        Gas LP     Golfo   \n",
       "77  TAR_TLP_SIN            Topolobampo GLP        Gas LP  Noroeste   \n",
       "78  TAR_TLP_HGO                   Tula GLP        Gas LP    Centro   \n",
       "\n",
       "             Estado Tipos_Productos_Almacenar   Año  \\\n",
       "5           Chiapas   Gas Licuado de Petróleo  2015   \n",
       "30       Tamaulipas   Gas Licuado de Petróleo  2015   \n",
       "47         Veracruz   Gas Licuado de Petróleo  2015   \n",
       "56           Puebla   Gas Licuado de Petróleo  2015   \n",
       "60  Baja California   Gas Licuado de Petróleo  2015   \n",
       "64           Oaxaca   Gas Licuado de Petróleo  2015   \n",
       "68           Puebla   Gas Licuado de Petróleo  2015   \n",
       "74         Veracruz   Gas Licuado de Petróleo  2015   \n",
       "77          Sinaloa   Gas Licuado de Petróleo  2015   \n",
       "78          Hidalgo   Gas Licuado de Petróleo  2015   \n",
       "\n",
       "    Capacidad_Diseño_barriles  Capacidad_Operativa_barriles  \n",
       "5                       40000                           NaN  \n",
       "30                      15000                           NaN  \n",
       "47                     770464                           NaN  \n",
       "56                      20000                           NaN  \n",
       "60                      40000                           NaN  \n",
       "64                       4000                           NaN  \n",
       "68                      20000                           NaN  \n",
       "74                      10000                           NaN  \n",
       "77                     200000                           NaN  \n",
       "78                      60000                           NaN  "
      ]
     },
     "execution_count": 24,
     "metadata": {},
     "output_type": "execute_result"
    }
   ],
   "source": [
    "df_terminales_gas_lp = df_terminales_mexico_copy[\n",
    "    df_terminales_mexico_copy['Tipo_Terminal'] == 'Gas LP']\n",
    "df_terminales_gas_lp"
   ]
  },
  {
   "cell_type": "markdown",
   "id": "f0bc96be",
   "metadata": {},
   "source": [
    "Creación de la copia del df_terminales_gas_lp para su tratamiento de limpieza"
   ]
  },
  {
   "cell_type": "code",
   "execution_count": 25,
   "id": "e4e59bc2",
   "metadata": {},
   "outputs": [],
   "source": [
    "df_terminales_gas_lp_copy = df_terminales_gas_lp.copy()"
   ]
  },
  {
   "cell_type": "markdown",
   "id": "39bad176",
   "metadata": {},
   "source": [
    "Se procede a eliminar la columna \"Capacidad_Operativa_barriles\" del df_terminales_gas_lp_copy, debido a que no hay información suficiente o dato para poder imputar los valores faltantes"
   ]
  },
  {
   "cell_type": "code",
   "execution_count": 26,
   "id": "289498ab",
   "metadata": {},
   "outputs": [
    {
     "data": {
      "text/html": [
       "<div>\n",
       "<style scoped>\n",
       "    .dataframe tbody tr th:only-of-type {\n",
       "        vertical-align: middle;\n",
       "    }\n",
       "\n",
       "    .dataframe tbody tr th {\n",
       "        vertical-align: top;\n",
       "    }\n",
       "\n",
       "    .dataframe thead th {\n",
       "        text-align: right;\n",
       "    }\n",
       "</style>\n",
       "<table border=\"1\" class=\"dataframe\">\n",
       "  <thead>\n",
       "    <tr style=\"text-align: right;\">\n",
       "      <th></th>\n",
       "      <th>ID_Terminal</th>\n",
       "      <th>Nombre_Terminal</th>\n",
       "      <th>Tipo_Terminal</th>\n",
       "      <th>Región</th>\n",
       "      <th>Estado</th>\n",
       "      <th>Tipos_Productos_Almacenar</th>\n",
       "      <th>Año</th>\n",
       "      <th>Capacidad_Diseño_barriles</th>\n",
       "    </tr>\n",
       "  </thead>\n",
       "  <tbody>\n",
       "    <tr>\n",
       "      <th>5</th>\n",
       "      <td>TAR_CLP_CHS</td>\n",
       "      <td>Cactus GLP</td>\n",
       "      <td>Gas LP</td>\n",
       "      <td>Sur</td>\n",
       "      <td>Chiapas</td>\n",
       "      <td>Gas Licuado de Petróleo</td>\n",
       "      <td>2015</td>\n",
       "      <td>40000</td>\n",
       "    </tr>\n",
       "    <tr>\n",
       "      <th>30</th>\n",
       "      <td>TAR_MLP_TAM</td>\n",
       "      <td>Madero GLP</td>\n",
       "      <td>Gas LP</td>\n",
       "      <td>Noreste</td>\n",
       "      <td>Tamaulipas</td>\n",
       "      <td>Gas Licuado de Petróleo</td>\n",
       "      <td>2015</td>\n",
       "      <td>15000</td>\n",
       "    </tr>\n",
       "    <tr>\n",
       "      <th>47</th>\n",
       "      <td>TAR_PLP_VER</td>\n",
       "      <td>Pajaritos GLP</td>\n",
       "      <td>Gas LP</td>\n",
       "      <td>Golfo</td>\n",
       "      <td>Veracruz</td>\n",
       "      <td>Gas Licuado de Petróleo</td>\n",
       "      <td>2015</td>\n",
       "      <td>770464</td>\n",
       "    </tr>\n",
       "    <tr>\n",
       "      <th>56</th>\n",
       "      <td>TAR_PLP_PUE</td>\n",
       "      <td>Puebla GLP</td>\n",
       "      <td>Gas LP</td>\n",
       "      <td>Centro</td>\n",
       "      <td>Puebla</td>\n",
       "      <td>Gas Licuado de Petróleo</td>\n",
       "      <td>2015</td>\n",
       "      <td>20000</td>\n",
       "    </tr>\n",
       "    <tr>\n",
       "      <th>60</th>\n",
       "      <td>TAR_RLP_BJ</td>\n",
       "      <td>Rosarito GLP</td>\n",
       "      <td>Gas LP</td>\n",
       "      <td>Noroeste</td>\n",
       "      <td>Baja California</td>\n",
       "      <td>Gas Licuado de Petróleo</td>\n",
       "      <td>2015</td>\n",
       "      <td>40000</td>\n",
       "    </tr>\n",
       "    <tr>\n",
       "      <th>64</th>\n",
       "      <td>TAR_OLP_OAX</td>\n",
       "      <td>Salina Cruz Oaxaca GLP</td>\n",
       "      <td>Gas LP</td>\n",
       "      <td>Sur</td>\n",
       "      <td>Oaxaca</td>\n",
       "      <td>Gas Licuado de Petróleo</td>\n",
       "      <td>2015</td>\n",
       "      <td>4000</td>\n",
       "    </tr>\n",
       "    <tr>\n",
       "      <th>68</th>\n",
       "      <td>TAR_SMT_PUE</td>\n",
       "      <td>San Martín Texmelucan GLP</td>\n",
       "      <td>Gas LP</td>\n",
       "      <td>Centro</td>\n",
       "      <td>Puebla</td>\n",
       "      <td>Gas Licuado de Petróleo</td>\n",
       "      <td>2015</td>\n",
       "      <td>20000</td>\n",
       "    </tr>\n",
       "    <tr>\n",
       "      <th>74</th>\n",
       "      <td>TAR_BLP_VER</td>\n",
       "      <td>Tierra Blanca GLP</td>\n",
       "      <td>Gas LP</td>\n",
       "      <td>Golfo</td>\n",
       "      <td>Veracruz</td>\n",
       "      <td>Gas Licuado de Petróleo</td>\n",
       "      <td>2015</td>\n",
       "      <td>10000</td>\n",
       "    </tr>\n",
       "    <tr>\n",
       "      <th>77</th>\n",
       "      <td>TAR_TLP_SIN</td>\n",
       "      <td>Topolobampo GLP</td>\n",
       "      <td>Gas LP</td>\n",
       "      <td>Noroeste</td>\n",
       "      <td>Sinaloa</td>\n",
       "      <td>Gas Licuado de Petróleo</td>\n",
       "      <td>2015</td>\n",
       "      <td>200000</td>\n",
       "    </tr>\n",
       "    <tr>\n",
       "      <th>78</th>\n",
       "      <td>TAR_TLP_HGO</td>\n",
       "      <td>Tula GLP</td>\n",
       "      <td>Gas LP</td>\n",
       "      <td>Centro</td>\n",
       "      <td>Hidalgo</td>\n",
       "      <td>Gas Licuado de Petróleo</td>\n",
       "      <td>2015</td>\n",
       "      <td>60000</td>\n",
       "    </tr>\n",
       "  </tbody>\n",
       "</table>\n",
       "</div>"
      ],
      "text/plain": [
       "    ID_Terminal            Nombre_Terminal Tipo_Terminal    Región  \\\n",
       "5   TAR_CLP_CHS                 Cactus GLP        Gas LP       Sur   \n",
       "30  TAR_MLP_TAM                 Madero GLP        Gas LP   Noreste   \n",
       "47  TAR_PLP_VER              Pajaritos GLP        Gas LP     Golfo   \n",
       "56  TAR_PLP_PUE                 Puebla GLP        Gas LP    Centro   \n",
       "60   TAR_RLP_BJ               Rosarito GLP        Gas LP  Noroeste   \n",
       "64  TAR_OLP_OAX     Salina Cruz Oaxaca GLP        Gas LP       Sur   \n",
       "68  TAR_SMT_PUE  San Martín Texmelucan GLP        Gas LP    Centro   \n",
       "74  TAR_BLP_VER          Tierra Blanca GLP        Gas LP     Golfo   \n",
       "77  TAR_TLP_SIN            Topolobampo GLP        Gas LP  Noroeste   \n",
       "78  TAR_TLP_HGO                   Tula GLP        Gas LP    Centro   \n",
       "\n",
       "             Estado Tipos_Productos_Almacenar   Año  Capacidad_Diseño_barriles  \n",
       "5           Chiapas   Gas Licuado de Petróleo  2015                      40000  \n",
       "30       Tamaulipas   Gas Licuado de Petróleo  2015                      15000  \n",
       "47         Veracruz   Gas Licuado de Petróleo  2015                     770464  \n",
       "56           Puebla   Gas Licuado de Petróleo  2015                      20000  \n",
       "60  Baja California   Gas Licuado de Petróleo  2015                      40000  \n",
       "64           Oaxaca   Gas Licuado de Petróleo  2015                       4000  \n",
       "68           Puebla   Gas Licuado de Petróleo  2015                      20000  \n",
       "74         Veracruz   Gas Licuado de Petróleo  2015                      10000  \n",
       "77          Sinaloa   Gas Licuado de Petróleo  2015                     200000  \n",
       "78          Hidalgo   Gas Licuado de Petróleo  2015                      60000  "
      ]
     },
     "execution_count": 26,
     "metadata": {},
     "output_type": "execute_result"
    }
   ],
   "source": [
    "df_terminales_gas_lp_copy_clean = df_terminales_gas_lp_copy.drop(columns=['Capacidad_Operativa_barriles'])\n",
    "df_terminales_gas_lp_copy_clean"
   ]
  },
  {
   "cell_type": "markdown",
   "id": "325ed276",
   "metadata": {},
   "source": [
    "Verificación de valores nulos para el df_terminales_gas_lp_copy_clean"
   ]
  },
  {
   "cell_type": "code",
   "execution_count": 27,
   "id": "1f3011be",
   "metadata": {},
   "outputs": [
    {
     "data": {
      "text/plain": [
       "ID_Terminal                  0\n",
       "Nombre_Terminal              0\n",
       "Tipo_Terminal                0\n",
       "Región                       0\n",
       "Estado                       0\n",
       "Tipos_Productos_Almacenar    0\n",
       "Año                          0\n",
       "Capacidad_Diseño_barriles    0\n",
       "dtype: int64"
      ]
     },
     "execution_count": 27,
     "metadata": {},
     "output_type": "execute_result"
    }
   ],
   "source": [
    "df_terminales_gas_lp_copy_clean.isnull().sum()"
   ]
  },
  {
   "cell_type": "markdown",
   "id": "604ce102",
   "metadata": {},
   "source": [
    "Se procede a eliminar los valores faltantes junto con las observaciones/filas del df_terminales_mexico_copy"
   ]
  },
  {
   "cell_type": "code",
   "execution_count": 28,
   "id": "e2259b8f",
   "metadata": {},
   "outputs": [],
   "source": [
    "df_terminales_mexico_copy_clean = df_terminales_mexico_copy.dropna(\n",
    "    subset=['Capacidad_Operativa_barriles'],\n",
    "    how='any'\n",
    ")"
   ]
  },
  {
   "cell_type": "markdown",
   "id": "559bd632",
   "metadata": {},
   "source": [
    "VALIDACIONES FINALES"
   ]
  },
  {
   "cell_type": "markdown",
   "id": "72de35da",
   "metadata": {},
   "source": [
    "Verificación de valores nulos para el df_terminales_mexico_copy_clean"
   ]
  },
  {
   "cell_type": "code",
   "execution_count": 29,
   "id": "f7ee45f1",
   "metadata": {},
   "outputs": [
    {
     "data": {
      "text/plain": [
       "ID_Terminal                     0\n",
       "Nombre_Terminal                 0\n",
       "Tipo_Terminal                   0\n",
       "Región                          0\n",
       "Estado                          0\n",
       "Tipos_Productos_Almacenar       0\n",
       "Año                             0\n",
       "Capacidad_Diseño_barriles       0\n",
       "Capacidad_Operativa_barriles    0\n",
       "dtype: int64"
      ]
     },
     "execution_count": 29,
     "metadata": {},
     "output_type": "execute_result"
    }
   ],
   "source": [
    "df_terminales_mexico_copy_clean.isnull().sum()"
   ]
  },
  {
   "cell_type": "markdown",
   "id": "75f58689",
   "metadata": {},
   "source": [
    "Convertir el tipo de data de la columna \"Capacidad_Operativa_barriles\" de float64 a int64 para una mejor optimización"
   ]
  },
  {
   "cell_type": "code",
   "execution_count": 36,
   "id": "53535422",
   "metadata": {},
   "outputs": [
    {
     "name": "stderr",
     "output_type": "stream",
     "text": [
      "/tmp/ipykernel_32662/2573408657.py:1: SettingWithCopyWarning: \n",
      "A value is trying to be set on a copy of a slice from a DataFrame.\n",
      "Try using .loc[row_indexer,col_indexer] = value instead\n",
      "\n",
      "See the caveats in the documentation: https://pandas.pydata.org/pandas-docs/stable/user_guide/indexing.html#returning-a-view-versus-a-copy\n",
      "  df_terminales_mexico_copy_clean['Capacidad_Operativa_barriles'] = df_terminales_mexico_copy_clean[\n"
     ]
    },
    {
     "data": {
      "text/plain": [
       "ID_Terminal                     object\n",
       "Nombre_Terminal                 object\n",
       "Tipo_Terminal                   object\n",
       "Región                          object\n",
       "Estado                          object\n",
       "Tipos_Productos_Almacenar       object\n",
       "Año                              int64\n",
       "Capacidad_Diseño_barriles        int64\n",
       "Capacidad_Operativa_barriles     int64\n",
       "dtype: object"
      ]
     },
     "execution_count": 36,
     "metadata": {},
     "output_type": "execute_result"
    }
   ],
   "source": [
    "df_terminales_mexico_copy_clean['Capacidad_Operativa_barriles'] = df_terminales_mexico_copy_clean[\n",
    "    'Capacidad_Operativa_barriles'].astype(int)\n",
    "df_terminales_mexico_copy_clean.dtypes"
   ]
  },
  {
   "cell_type": "markdown",
   "id": "c563a6dc",
   "metadata": {},
   "source": [
    "EXPORTACIÓN A CSV"
   ]
  },
  {
   "cell_type": "code",
   "execution_count": 39,
   "id": "e12de554",
   "metadata": {},
   "outputs": [],
   "source": [
    "df_terminales_mexico_clean = df_terminales_mexico_copy_clean.to_csv('../data/processed/terminales_méxico_clean.csv',\n",
    "                                                                    index='False', encoding=\"utf-8\")\n",
    "df_terminales_gas_lp_clean = df_terminales_gas_lp_copy_clean.to_csv('../data/processed/terminales_gaslp_clean.csv',\n",
    "                                                                    index='False', encoding='utf-8')"
   ]
  }
 ],
 "metadata": {
  "kernelspec": {
   "display_name": "env",
   "language": "python",
   "name": "python3"
  },
  "language_info": {
   "codemirror_mode": {
    "name": "ipython",
    "version": 3
   },
   "file_extension": ".py",
   "mimetype": "text/x-python",
   "name": "python",
   "nbconvert_exporter": "python",
   "pygments_lexer": "ipython3",
   "version": "3.12.3"
  }
 },
 "nbformat": 4,
 "nbformat_minor": 5
}
