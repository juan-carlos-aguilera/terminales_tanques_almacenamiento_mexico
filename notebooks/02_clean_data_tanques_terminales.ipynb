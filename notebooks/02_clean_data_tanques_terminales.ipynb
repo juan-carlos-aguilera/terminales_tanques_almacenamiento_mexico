{
 "cells": [
  {
   "cell_type": "markdown",
   "id": "59ec1b3b",
   "metadata": {},
   "source": [
    "02 - Limpieza y Validación de Datos del Dataset - 'TERMINALES_ALMACENAMIENTO_MEX' para los Tanques de Alamacenamiento."
   ]
  },
  {
   "cell_type": "markdown",
   "id": "74d5eddc",
   "metadata": {},
   "source": [
    "Objetivo: Preparar el Dataset para su posterior análisis e indagar y tratar los posibles valores faltantes o nulos."
   ]
  },
  {
   "cell_type": "markdown",
   "id": "05ae4d4d",
   "metadata": {},
   "source": [
    "IMPORTACIÓN LIBRERÍAS"
   ]
  },
  {
   "cell_type": "code",
   "execution_count": 162,
   "id": "2da970a0",
   "metadata": {},
   "outputs": [],
   "source": [
    "import numpy as np\n",
    "import pandas as pd\n",
    "import pyprojroot\n",
    "import os\n",
    "from pathlib import Path\n",
    "pd.set_option(\"display.float_format\", \"{:,.0f}\".format)"
   ]
  },
  {
   "cell_type": "markdown",
   "id": "11f59590",
   "metadata": {},
   "source": [
    "Verificación de ruta para la importación de archivos"
   ]
  },
  {
   "cell_type": "code",
   "execution_count": 163,
   "id": "e29a9e60",
   "metadata": {},
   "outputs": [
    {
     "name": "stdout",
     "output_type": "stream",
     "text": [
      "/mnt/d/CURSOS/IA_DATA_SCIENCE/PROYECTOS_CIENCIA_DATOS/PROYECTOS/TERMINALES_ALMACENAMIENTO_MEX/data/raw\n"
     ]
    }
   ],
   "source": [
    "root = pyprojroot.here()\n",
    "data_raw = root/'data'/'raw'\n",
    "print(data_raw)"
   ]
  },
  {
   "cell_type": "markdown",
   "id": "76c51570",
   "metadata": {},
   "source": [
    "CARGA DATOS"
   ]
  },
  {
   "cell_type": "code",
   "execution_count": 164,
   "id": "cec46c37",
   "metadata": {},
   "outputs": [],
   "source": [
    "df_tanques_terminales = (\n",
    "    pd.read_excel(data_raw/'Terminales_Almacenamiento_México.xlsx'\n",
    "                  , sheet_name='Tanques_Terminales')\n",
    ")"
   ]
  },
  {
   "cell_type": "markdown",
   "id": "9b174249",
   "metadata": {},
   "source": [
    "EXPLORACIÓN INICIAL"
   ]
  },
  {
   "cell_type": "markdown",
   "id": "cdab70f3",
   "metadata": {},
   "source": [
    "Mostrar las primeras 5 filas"
   ]
  },
  {
   "cell_type": "code",
   "execution_count": 165,
   "id": "b535bfea",
   "metadata": {},
   "outputs": [
    {
     "data": {
      "text/html": [
       "<div>\n",
       "<style scoped>\n",
       "    .dataframe tbody tr th:only-of-type {\n",
       "        vertical-align: middle;\n",
       "    }\n",
       "\n",
       "    .dataframe tbody tr th {\n",
       "        vertical-align: top;\n",
       "    }\n",
       "\n",
       "    .dataframe thead th {\n",
       "        text-align: right;\n",
       "    }\n",
       "</style>\n",
       "<table border=\"1\" class=\"dataframe\">\n",
       "  <thead>\n",
       "    <tr style=\"text-align: right;\">\n",
       "      <th></th>\n",
       "      <th>ID_Terminal</th>\n",
       "      <th>ID_Tanque_Local</th>\n",
       "      <th>Tipo_Tanque</th>\n",
       "      <th>Subtipo_Tanque</th>\n",
       "      <th>Capacidad_Tanque_barriles</th>\n",
       "      <th>Cantidad_Tanques</th>\n",
       "    </tr>\n",
       "  </thead>\n",
       "  <tbody>\n",
       "    <tr>\n",
       "      <th>0</th>\n",
       "      <td>TAR_ACG_GRO</td>\n",
       "      <td>TV_006</td>\n",
       "      <td>Cilíndrico Vertical Atmosférico</td>\n",
       "      <td>Membrana Flotante</td>\n",
       "      <td>30000</td>\n",
       "      <td>1</td>\n",
       "    </tr>\n",
       "    <tr>\n",
       "      <th>1</th>\n",
       "      <td>TAR_ACG_GRO</td>\n",
       "      <td>TV_011</td>\n",
       "      <td>Cilíndrico Vertical Atmosférico</td>\n",
       "      <td>Membrana Flotante</td>\n",
       "      <td>55000</td>\n",
       "      <td>1</td>\n",
       "    </tr>\n",
       "    <tr>\n",
       "      <th>2</th>\n",
       "      <td>TAR_ACG_GRO</td>\n",
       "      <td>TV_260</td>\n",
       "      <td>Cilíndrico Vertical Atmosférico</td>\n",
       "      <td>Membrana Flotante</td>\n",
       "      <td>10000</td>\n",
       "      <td>1</td>\n",
       "    </tr>\n",
       "    <tr>\n",
       "      <th>3</th>\n",
       "      <td>TAR_ACG_GRO</td>\n",
       "      <td>TV_261</td>\n",
       "      <td>Cilíndrico Vertical Atmosférico</td>\n",
       "      <td>Membrana Flotante</td>\n",
       "      <td>10000</td>\n",
       "      <td>1</td>\n",
       "    </tr>\n",
       "    <tr>\n",
       "      <th>4</th>\n",
       "      <td>TAR_ACG_GRO</td>\n",
       "      <td>TV_386</td>\n",
       "      <td>Cilíndrico Vertical Atmosférico</td>\n",
       "      <td>Membrana Flotante</td>\n",
       "      <td>30000</td>\n",
       "      <td>1</td>\n",
       "    </tr>\n",
       "  </tbody>\n",
       "</table>\n",
       "</div>"
      ],
      "text/plain": [
       "   ID_Terminal ID_Tanque_Local                      Tipo_Tanque  \\\n",
       "0  TAR_ACG_GRO          TV_006  Cilíndrico Vertical Atmosférico   \n",
       "1  TAR_ACG_GRO          TV_011  Cilíndrico Vertical Atmosférico   \n",
       "2  TAR_ACG_GRO          TV_260  Cilíndrico Vertical Atmosférico   \n",
       "3  TAR_ACG_GRO          TV_261  Cilíndrico Vertical Atmosférico   \n",
       "4  TAR_ACG_GRO          TV_386  Cilíndrico Vertical Atmosférico   \n",
       "\n",
       "      Subtipo_Tanque  Capacidad_Tanque_barriles  Cantidad_Tanques  \n",
       "0  Membrana Flotante                      30000                 1  \n",
       "1  Membrana Flotante                      55000                 1  \n",
       "2  Membrana Flotante                      10000                 1  \n",
       "3  Membrana Flotante                      10000                 1  \n",
       "4  Membrana Flotante                      30000                 1  "
      ]
     },
     "execution_count": 165,
     "metadata": {},
     "output_type": "execute_result"
    }
   ],
   "source": [
    "df_tanques_terminales.head()"
   ]
  },
  {
   "cell_type": "markdown",
   "id": "f8c6c475",
   "metadata": {},
   "source": [
    "Mostras el tipo de dato de las variables/columnas"
   ]
  },
  {
   "cell_type": "code",
   "execution_count": 166,
   "id": "2ca2dcee",
   "metadata": {},
   "outputs": [
    {
     "data": {
      "text/plain": [
       "ID_Terminal                  object\n",
       "ID_Tanque_Local              object\n",
       "Tipo_Tanque                  object\n",
       "Subtipo_Tanque               object\n",
       "Capacidad_Tanque_barriles     int64\n",
       "Cantidad_Tanques              int64\n",
       "dtype: object"
      ]
     },
     "execution_count": 166,
     "metadata": {},
     "output_type": "execute_result"
    }
   ],
   "source": [
    "df_tanques_terminales.dtypes"
   ]
  },
  {
   "cell_type": "markdown",
   "id": "6cdf8a71",
   "metadata": {},
   "source": [
    "Estadísticas básicas de inicio rápido"
   ]
  },
  {
   "cell_type": "code",
   "execution_count": 167,
   "id": "064befd4",
   "metadata": {},
   "outputs": [
    {
     "data": {
      "text/html": [
       "<div>\n",
       "<style scoped>\n",
       "    .dataframe tbody tr th:only-of-type {\n",
       "        vertical-align: middle;\n",
       "    }\n",
       "\n",
       "    .dataframe tbody tr th {\n",
       "        vertical-align: top;\n",
       "    }\n",
       "\n",
       "    .dataframe thead th {\n",
       "        text-align: right;\n",
       "    }\n",
       "</style>\n",
       "<table border=\"1\" class=\"dataframe\">\n",
       "  <thead>\n",
       "    <tr style=\"text-align: right;\">\n",
       "      <th></th>\n",
       "      <th>Capacidad_Tanque_barriles</th>\n",
       "      <th>Cantidad_Tanques</th>\n",
       "    </tr>\n",
       "  </thead>\n",
       "  <tbody>\n",
       "    <tr>\n",
       "      <th>count</th>\n",
       "      <td>731</td>\n",
       "      <td>731</td>\n",
       "    </tr>\n",
       "    <tr>\n",
       "      <th>mean</th>\n",
       "      <td>44,030</td>\n",
       "      <td>1</td>\n",
       "    </tr>\n",
       "    <tr>\n",
       "      <th>std</th>\n",
       "      <td>54,915</td>\n",
       "      <td>0</td>\n",
       "    </tr>\n",
       "    <tr>\n",
       "      <th>min</th>\n",
       "      <td>500</td>\n",
       "      <td>1</td>\n",
       "    </tr>\n",
       "    <tr>\n",
       "      <th>25%</th>\n",
       "      <td>10,000</td>\n",
       "      <td>1</td>\n",
       "    </tr>\n",
       "    <tr>\n",
       "      <th>50%</th>\n",
       "      <td>20,000</td>\n",
       "      <td>1</td>\n",
       "    </tr>\n",
       "    <tr>\n",
       "      <th>75%</th>\n",
       "      <td>55,000</td>\n",
       "      <td>1</td>\n",
       "    </tr>\n",
       "    <tr>\n",
       "      <th>max</th>\n",
       "      <td>560,000</td>\n",
       "      <td>2</td>\n",
       "    </tr>\n",
       "  </tbody>\n",
       "</table>\n",
       "</div>"
      ],
      "text/plain": [
       "       Capacidad_Tanque_barriles  Cantidad_Tanques\n",
       "count                        731               731\n",
       "mean                      44,030                 1\n",
       "std                       54,915                 0\n",
       "min                          500                 1\n",
       "25%                       10,000                 1\n",
       "50%                       20,000                 1\n",
       "75%                       55,000                 1\n",
       "max                      560,000                 2"
      ]
     },
     "execution_count": 167,
     "metadata": {},
     "output_type": "execute_result"
    }
   ],
   "source": [
    "df_tanques_terminales.describe()"
   ]
  },
  {
   "cell_type": "markdown",
   "id": "620d11f6",
   "metadata": {},
   "source": [
    "Mostrar valores faltantes"
   ]
  },
  {
   "cell_type": "code",
   "execution_count": 168,
   "id": "9ae03e58",
   "metadata": {},
   "outputs": [
    {
     "data": {
      "text/plain": [
       "ID_Terminal                   0\n",
       "ID_Tanque_Local               0\n",
       "Tipo_Tanque                   0\n",
       "Subtipo_Tanque               70\n",
       "Capacidad_Tanque_barriles     0\n",
       "Cantidad_Tanques              0\n",
       "dtype: int64"
      ]
     },
     "execution_count": 168,
     "metadata": {},
     "output_type": "execute_result"
    }
   ],
   "source": [
    "df_tanques_terminales.isnull().sum()"
   ]
  },
  {
   "cell_type": "markdown",
   "id": "806311bd",
   "metadata": {},
   "source": [
    "TRATAMIENTO DE VALORES NULOS"
   ]
  },
  {
   "cell_type": "markdown",
   "id": "895a64b3",
   "metadata": {},
   "source": [
    "Creación de la copia del df_tanques_terminales para su limpieza y validación"
   ]
  },
  {
   "cell_type": "code",
   "execution_count": 169,
   "id": "fa204819",
   "metadata": {},
   "outputs": [],
   "source": [
    "df_tanques_terminales_copy = df_tanques_terminales.copy()"
   ]
  },
  {
   "cell_type": "markdown",
   "id": "656a9731",
   "metadata": {},
   "source": [
    "Verificar que tipo de filas/observaciones tienen valores faltantes en relación a la columna \"Subtipo_Tanque\""
   ]
  },
  {
   "cell_type": "code",
   "execution_count": 170,
   "id": "81e0fc80",
   "metadata": {},
   "outputs": [
    {
     "data": {
      "text/html": [
       "<div>\n",
       "<style scoped>\n",
       "    .dataframe tbody tr th:only-of-type {\n",
       "        vertical-align: middle;\n",
       "    }\n",
       "\n",
       "    .dataframe tbody tr th {\n",
       "        vertical-align: top;\n",
       "    }\n",
       "\n",
       "    .dataframe thead th {\n",
       "        text-align: right;\n",
       "    }\n",
       "</style>\n",
       "<table border=\"1\" class=\"dataframe\">\n",
       "  <thead>\n",
       "    <tr style=\"text-align: right;\">\n",
       "      <th></th>\n",
       "      <th>ID_Terminal</th>\n",
       "      <th>ID_Tanque_Local</th>\n",
       "      <th>Tipo_Tanque</th>\n",
       "      <th>Subtipo_Tanque</th>\n",
       "      <th>Capacidad_Tanque_barriles</th>\n",
       "      <th>Cantidad_Tanques</th>\n",
       "    </tr>\n",
       "  </thead>\n",
       "  <tbody>\n",
       "    <tr>\n",
       "      <th>49</th>\n",
       "      <td>TAR_BLP_VER</td>\n",
       "      <td>TE_1</td>\n",
       "      <td>Esférico</td>\n",
       "      <td>NaN</td>\n",
       "      <td>10000</td>\n",
       "      <td>1</td>\n",
       "    </tr>\n",
       "    <tr>\n",
       "      <th>95</th>\n",
       "      <td>TAR_CLP_CHS</td>\n",
       "      <td>TE_1</td>\n",
       "      <td>Esférico</td>\n",
       "      <td>NaN</td>\n",
       "      <td>10000</td>\n",
       "      <td>1</td>\n",
       "    </tr>\n",
       "    <tr>\n",
       "      <th>96</th>\n",
       "      <td>TAR_CLP_CHS</td>\n",
       "      <td>TE_2</td>\n",
       "      <td>Esférico</td>\n",
       "      <td>NaN</td>\n",
       "      <td>10000</td>\n",
       "      <td>1</td>\n",
       "    </tr>\n",
       "    <tr>\n",
       "      <th>97</th>\n",
       "      <td>TAR_CLP_CHS</td>\n",
       "      <td>TE_3</td>\n",
       "      <td>Esférico</td>\n",
       "      <td>NaN</td>\n",
       "      <td>10000</td>\n",
       "      <td>1</td>\n",
       "    </tr>\n",
       "    <tr>\n",
       "      <th>98</th>\n",
       "      <td>TAR_CLP_CHS</td>\n",
       "      <td>TE_4</td>\n",
       "      <td>Esférico</td>\n",
       "      <td>NaN</td>\n",
       "      <td>10000</td>\n",
       "      <td>1</td>\n",
       "    </tr>\n",
       "    <tr>\n",
       "      <th>...</th>\n",
       "      <td>...</td>\n",
       "      <td>...</td>\n",
       "      <td>...</td>\n",
       "      <td>...</td>\n",
       "      <td>...</td>\n",
       "      <td>...</td>\n",
       "    </tr>\n",
       "    <tr>\n",
       "      <th>609</th>\n",
       "      <td>TAR_TLP_SIN</td>\n",
       "      <td>TC_1</td>\n",
       "      <td>Criogénico</td>\n",
       "      <td>NaN</td>\n",
       "      <td>200000</td>\n",
       "      <td>1</td>\n",
       "    </tr>\n",
       "    <tr>\n",
       "      <th>687</th>\n",
       "      <td>TAR_VER_VER</td>\n",
       "      <td>TH_1</td>\n",
       "      <td>Horizontal</td>\n",
       "      <td>NaN</td>\n",
       "      <td>500</td>\n",
       "      <td>1</td>\n",
       "    </tr>\n",
       "    <tr>\n",
       "      <th>688</th>\n",
       "      <td>TAR_VER_VER</td>\n",
       "      <td>TH_2</td>\n",
       "      <td>Horizontal</td>\n",
       "      <td>NaN</td>\n",
       "      <td>500</td>\n",
       "      <td>1</td>\n",
       "    </tr>\n",
       "    <tr>\n",
       "      <th>695</th>\n",
       "      <td>TAR_VIC_TAM</td>\n",
       "      <td>TV_6</td>\n",
       "      <td>Cilíndrico Vertical Atmosférico</td>\n",
       "      <td>NaN</td>\n",
       "      <td>30000</td>\n",
       "      <td>1</td>\n",
       "    </tr>\n",
       "    <tr>\n",
       "      <th>709</th>\n",
       "      <td>TAR_VIL_TAB</td>\n",
       "      <td>TH_10</td>\n",
       "      <td>Horizontal</td>\n",
       "      <td>NaN</td>\n",
       "      <td>500</td>\n",
       "      <td>1</td>\n",
       "    </tr>\n",
       "  </tbody>\n",
       "</table>\n",
       "<p>70 rows × 6 columns</p>\n",
       "</div>"
      ],
      "text/plain": [
       "     ID_Terminal ID_Tanque_Local                      Tipo_Tanque  \\\n",
       "49   TAR_BLP_VER            TE_1                         Esférico   \n",
       "95   TAR_CLP_CHS            TE_1                         Esférico   \n",
       "96   TAR_CLP_CHS            TE_2                         Esférico   \n",
       "97   TAR_CLP_CHS            TE_3                         Esférico   \n",
       "98   TAR_CLP_CHS            TE_4                         Esférico   \n",
       "..           ...             ...                              ...   \n",
       "609  TAR_TLP_SIN            TC_1                       Criogénico   \n",
       "687  TAR_VER_VER            TH_1                       Horizontal   \n",
       "688  TAR_VER_VER            TH_2                       Horizontal   \n",
       "695  TAR_VIC_TAM            TV_6  Cilíndrico Vertical Atmosférico   \n",
       "709  TAR_VIL_TAB           TH_10                       Horizontal   \n",
       "\n",
       "    Subtipo_Tanque  Capacidad_Tanque_barriles  Cantidad_Tanques  \n",
       "49             NaN                      10000                 1  \n",
       "95             NaN                      10000                 1  \n",
       "96             NaN                      10000                 1  \n",
       "97             NaN                      10000                 1  \n",
       "98             NaN                      10000                 1  \n",
       "..             ...                        ...               ...  \n",
       "609            NaN                     200000                 1  \n",
       "687            NaN                        500                 1  \n",
       "688            NaN                        500                 1  \n",
       "695            NaN                      30000                 1  \n",
       "709            NaN                        500                 1  \n",
       "\n",
       "[70 rows x 6 columns]"
      ]
     },
     "execution_count": 170,
     "metadata": {},
     "output_type": "execute_result"
    }
   ],
   "source": [
    "df_tanques_terminales_copy[df_tanques_terminales_copy['Subtipo_Tanque'].isna()]"
   ]
  },
  {
   "cell_type": "markdown",
   "id": "f9ea030b",
   "metadata": {},
   "source": [
    "Ver la cantidad de datos de la columna \"Tipo_Tanque\" en relación a los valores faltantes"
   ]
  },
  {
   "cell_type": "code",
   "execution_count": 171,
   "id": "fbb914f8",
   "metadata": {},
   "outputs": [
    {
     "data": {
      "text/plain": [
       "Tipo_Tanque\n",
       "Vertical                             25\n",
       "Esférico                             15\n",
       "Horizontal                           11\n",
       "Cilíndrico Horizontal Atmosférico     7\n",
       "Cilíndrico Vertical Atmosférico       7\n",
       "Vertical Criogénico                   4\n",
       "Criogénico                            1\n",
       "Name: count, dtype: int64"
      ]
     },
     "execution_count": 171,
     "metadata": {},
     "output_type": "execute_result"
    }
   ],
   "source": [
    "null_values_tanques_terminales = (\n",
    "    df_tanques_terminales_copy[df_tanques_terminales_copy['Subtipo_Tanque']\n",
    "                               .isin(['NA', 'NaN'])\n",
    "                               | df_tanques_terminales_copy['Subtipo_Tanque']\n",
    "                               .isnull()]\n",
    ")\n",
    "\n",
    "count_types_null_values = (\n",
    "    null_values_tanques_terminales['Tipo_Tanque']\n",
    "    .value_counts()\n",
    ")\n",
    "\n",
    "count_types_null_values"
   ]
  },
  {
   "cell_type": "markdown",
   "id": "0fd560c4",
   "metadata": {},
   "source": [
    "Proporción"
   ]
  },
  {
   "cell_type": "code",
   "execution_count": 172,
   "id": "bbaf4f99",
   "metadata": {},
   "outputs": [
    {
     "data": {
      "text/plain": [
       "Tipo_Tanque\n",
       "Vertical                            36\n",
       "Esférico                            21\n",
       "Horizontal                          16\n",
       "Cilíndrico Horizontal Atmosférico   10\n",
       "Cilíndrico Vertical Atmosférico     10\n",
       "Vertical Criogénico                  6\n",
       "Criogénico                           1\n",
       "Name: count, dtype: float64"
      ]
     },
     "execution_count": 172,
     "metadata": {},
     "output_type": "execute_result"
    }
   ],
   "source": [
    "proportion_null_values = (\n",
    "    (count_types_null_values /len(null_values_tanques_terminales)) * 100\n",
    "\n",
    ")\n",
    "proportion_null_values"
   ]
  },
  {
   "cell_type": "markdown",
   "id": "0ae706b2",
   "metadata": {},
   "source": [
    "Comparación de resultados finales faltantes"
   ]
  },
  {
   "cell_type": "code",
   "execution_count": 173,
   "id": "d0c37ce8",
   "metadata": {},
   "outputs": [
    {
     "data": {
      "text/html": [
       "<div>\n",
       "<style scoped>\n",
       "    .dataframe tbody tr th:only-of-type {\n",
       "        vertical-align: middle;\n",
       "    }\n",
       "\n",
       "    .dataframe tbody tr th {\n",
       "        vertical-align: top;\n",
       "    }\n",
       "\n",
       "    .dataframe thead th {\n",
       "        text-align: right;\n",
       "    }\n",
       "</style>\n",
       "<table border=\"1\" class=\"dataframe\">\n",
       "  <thead>\n",
       "    <tr style=\"text-align: right;\">\n",
       "      <th></th>\n",
       "      <th>Cantidad_faltante(s)</th>\n",
       "      <th>Proporción (%)</th>\n",
       "    </tr>\n",
       "    <tr>\n",
       "      <th>Tipo_Tanque</th>\n",
       "      <th></th>\n",
       "      <th></th>\n",
       "    </tr>\n",
       "  </thead>\n",
       "  <tbody>\n",
       "    <tr>\n",
       "      <th>Vertical</th>\n",
       "      <td>25</td>\n",
       "      <td>36</td>\n",
       "    </tr>\n",
       "    <tr>\n",
       "      <th>Esférico</th>\n",
       "      <td>15</td>\n",
       "      <td>21</td>\n",
       "    </tr>\n",
       "    <tr>\n",
       "      <th>Horizontal</th>\n",
       "      <td>11</td>\n",
       "      <td>16</td>\n",
       "    </tr>\n",
       "    <tr>\n",
       "      <th>Cilíndrico Horizontal Atmosférico</th>\n",
       "      <td>7</td>\n",
       "      <td>10</td>\n",
       "    </tr>\n",
       "    <tr>\n",
       "      <th>Cilíndrico Vertical Atmosférico</th>\n",
       "      <td>7</td>\n",
       "      <td>10</td>\n",
       "    </tr>\n",
       "    <tr>\n",
       "      <th>Vertical Criogénico</th>\n",
       "      <td>4</td>\n",
       "      <td>6</td>\n",
       "    </tr>\n",
       "    <tr>\n",
       "      <th>Criogénico</th>\n",
       "      <td>1</td>\n",
       "      <td>1</td>\n",
       "    </tr>\n",
       "  </tbody>\n",
       "</table>\n",
       "</div>"
      ],
      "text/plain": [
       "                                   Cantidad_faltante(s)  Proporción (%)\n",
       "Tipo_Tanque                                                            \n",
       "Vertical                                             25              36\n",
       "Esférico                                             15              21\n",
       "Horizontal                                           11              16\n",
       "Cilíndrico Horizontal Atmosférico                     7              10\n",
       "Cilíndrico Vertical Atmosférico                       7              10\n",
       "Vertical Criogénico                                   4               6\n",
       "Criogénico                                            1               1"
      ]
     },
     "execution_count": 173,
     "metadata": {},
     "output_type": "execute_result"
    }
   ],
   "source": [
    "null_values_result = pd.DataFrame({\n",
    "    'Cantidad_faltante(s)': count_types_null_values,\n",
    "    'Proporción (%)': proportion_null_values.round(2)\n",
    "})\n",
    "null_values_result"
   ]
  },
  {
   "cell_type": "markdown",
   "id": "328d3557",
   "metadata": {},
   "source": [
    "Conteo de valores completos y nulos por tipo de columna/variable"
   ]
  },
  {
   "cell_type": "code",
   "execution_count": 174,
   "id": "74f6d3c2",
   "metadata": {},
   "outputs": [],
   "source": [
    "non_null_counts = df_tanques_terminales_copy.notnull().sum()\n",
    "null_counts = df_tanques_terminales_copy.isnull().sum()\n"
   ]
  },
  {
   "cell_type": "markdown",
   "id": "5aa1a05e",
   "metadata": {},
   "source": [
    "Proporción de valores nulos y valores completos"
   ]
  },
  {
   "cell_type": "code",
   "execution_count": 175,
   "id": "e648f4af",
   "metadata": {},
   "outputs": [],
   "source": [
    "non_null_percent = (\n",
    "    (non_null_counts/len(df_tanques_terminales_copy))*100\n",
    ")\n",
    "\n",
    "null_counts_percent = (\n",
    "    (null_counts/len(df_tanques_terminales_copy))*100\n",
    ")"
   ]
  },
  {
   "cell_type": "markdown",
   "id": "2a31ff80",
   "metadata": {},
   "source": [
    "Comparación de valores completos y nulos por tipo de columa/variable "
   ]
  },
  {
   "cell_type": "code",
   "execution_count": 176,
   "id": "d456bd14",
   "metadata": {},
   "outputs": [
    {
     "data": {
      "text/html": [
       "<div>\n",
       "<style scoped>\n",
       "    .dataframe tbody tr th:only-of-type {\n",
       "        vertical-align: middle;\n",
       "    }\n",
       "\n",
       "    .dataframe tbody tr th {\n",
       "        vertical-align: top;\n",
       "    }\n",
       "\n",
       "    .dataframe thead th {\n",
       "        text-align: right;\n",
       "    }\n",
       "</style>\n",
       "<table border=\"1\" class=\"dataframe\">\n",
       "  <thead>\n",
       "    <tr style=\"text-align: right;\">\n",
       "      <th></th>\n",
       "      <th>Valores_completos</th>\n",
       "      <th>Valores_nulos</th>\n",
       "      <th>Proporción_valores_completos (%)</th>\n",
       "      <th>Proporción_valores_nulos (%)</th>\n",
       "    </tr>\n",
       "  </thead>\n",
       "  <tbody>\n",
       "    <tr>\n",
       "      <th>ID_Terminal</th>\n",
       "      <td>731</td>\n",
       "      <td>0</td>\n",
       "      <td>100</td>\n",
       "      <td>100</td>\n",
       "    </tr>\n",
       "    <tr>\n",
       "      <th>ID_Tanque_Local</th>\n",
       "      <td>731</td>\n",
       "      <td>0</td>\n",
       "      <td>100</td>\n",
       "      <td>100</td>\n",
       "    </tr>\n",
       "    <tr>\n",
       "      <th>Tipo_Tanque</th>\n",
       "      <td>731</td>\n",
       "      <td>0</td>\n",
       "      <td>100</td>\n",
       "      <td>100</td>\n",
       "    </tr>\n",
       "    <tr>\n",
       "      <th>Capacidad_Tanque_barriles</th>\n",
       "      <td>731</td>\n",
       "      <td>0</td>\n",
       "      <td>100</td>\n",
       "      <td>100</td>\n",
       "    </tr>\n",
       "    <tr>\n",
       "      <th>Cantidad_Tanques</th>\n",
       "      <td>731</td>\n",
       "      <td>0</td>\n",
       "      <td>100</td>\n",
       "      <td>100</td>\n",
       "    </tr>\n",
       "    <tr>\n",
       "      <th>Subtipo_Tanque</th>\n",
       "      <td>661</td>\n",
       "      <td>70</td>\n",
       "      <td>90</td>\n",
       "      <td>90</td>\n",
       "    </tr>\n",
       "  </tbody>\n",
       "</table>\n",
       "</div>"
      ],
      "text/plain": [
       "                           Valores_completos  Valores_nulos  \\\n",
       "ID_Terminal                              731              0   \n",
       "ID_Tanque_Local                          731              0   \n",
       "Tipo_Tanque                              731              0   \n",
       "Capacidad_Tanque_barriles                731              0   \n",
       "Cantidad_Tanques                         731              0   \n",
       "Subtipo_Tanque                           661             70   \n",
       "\n",
       "                           Proporción_valores_completos (%)  \\\n",
       "ID_Terminal                                             100   \n",
       "ID_Tanque_Local                                         100   \n",
       "Tipo_Tanque                                             100   \n",
       "Capacidad_Tanque_barriles                               100   \n",
       "Cantidad_Tanques                                        100   \n",
       "Subtipo_Tanque                                           90   \n",
       "\n",
       "                           Proporción_valores_nulos (%)  \n",
       "ID_Terminal                                         100  \n",
       "ID_Tanque_Local                                     100  \n",
       "Tipo_Tanque                                         100  \n",
       "Capacidad_Tanque_barriles                           100  \n",
       "Cantidad_Tanques                                    100  \n",
       "Subtipo_Tanque                                       90  "
      ]
     },
     "execution_count": 176,
     "metadata": {},
     "output_type": "execute_result"
    }
   ],
   "source": [
    "missing_comparasion_values = pd.DataFrame({\n",
    "    'Valores_completos': non_null_counts,\n",
    "    'Valores_nulos': null_counts,\n",
    "    'Proporción_valores_completos (%)': non_null_percent,\n",
    "    'Proporción_valores_nulos (%)': non_null_percent,\n",
    "}).sort_values(by='Proporción_valores_nulos (%)', ascending=False)\n",
    "\n",
    "missing_comparasion_values"
   ]
  },
  {
   "cell_type": "markdown",
   "id": "9ba5f3c1",
   "metadata": {},
   "source": [
    "Si bien se podría eliminar los valores faltantes en la columna/variable \"Subtipo_Tanque\" debido a que solo representa el 10% del total, se procede a imputarlos para una mejor optimización."
   ]
  },
  {
   "cell_type": "code",
   "execution_count": 177,
   "id": "27858df1",
   "metadata": {},
   "outputs": [],
   "source": [
    "df_tanques_terminales_copy['Subtipo_Tanque'] = (\n",
    "    df_tanques_terminales_copy['Subtipo_Tanque']\n",
    "    .fillna('No especificado')\n",
    ")"
   ]
  },
  {
   "cell_type": "markdown",
   "id": "87ebd3b8",
   "metadata": {},
   "source": [
    "VALIDACIONES_FINALES"
   ]
  },
  {
   "cell_type": "markdown",
   "id": "bf41ac63",
   "metadata": {},
   "source": [
    "Verificación de valores nulos para el df_tanques_terminales_copy"
   ]
  },
  {
   "cell_type": "code",
   "execution_count": 178,
   "id": "a5579605",
   "metadata": {},
   "outputs": [
    {
     "data": {
      "text/plain": [
       "ID_Terminal                  0\n",
       "ID_Tanque_Local              0\n",
       "Tipo_Tanque                  0\n",
       "Subtipo_Tanque               0\n",
       "Capacidad_Tanque_barriles    0\n",
       "Cantidad_Tanques             0\n",
       "dtype: int64"
      ]
     },
     "execution_count": 178,
     "metadata": {},
     "output_type": "execute_result"
    }
   ],
   "source": [
    "df_tanques_terminales_copy_clean = df_tanques_terminales_copy\n",
    "df_tanques_terminales_copy_clean.isnull().sum()"
   ]
  },
  {
   "cell_type": "markdown",
   "id": "fcdd260c",
   "metadata": {},
   "source": [
    "EXPORTACIÓN A CSV"
   ]
  },
  {
   "cell_type": "code",
   "execution_count": 179,
   "id": "43c8fec8",
   "metadata": {},
   "outputs": [],
   "source": [
    "df_tanques_terminales_clean = (\n",
    "    df_tanques_terminales_copy_clean.to_csv('../data/processed/tanques_terminales_clean.csv',\n",
    "                                            index=False, encoding=\"utf-8\")\n",
    ")"
   ]
  }
 ],
 "metadata": {
  "kernelspec": {
   "display_name": "env",
   "language": "python",
   "name": "python3"
  },
  "language_info": {
   "name": "python",
   "version": "3.12.3"
  }
 },
 "nbformat": 4,
 "nbformat_minor": 5
}
